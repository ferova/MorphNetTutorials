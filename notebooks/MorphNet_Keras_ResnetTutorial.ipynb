{
 "cells": [
  {
   "cell_type": "markdown",
   "metadata": {
    "colab_type": "text",
    "id": "view-in-github"
   },
   "source": [
    "<a href=\"https://colab.research.google.com/github/ferova/MorphNetTutorials/blob/master/notebooks/MorphNet_Keras_ResnetTutorial.ipynb\" target=\"_parent\"><img src=\"https://colab.research.google.com/assets/colab-badge.svg\" alt=\"Open In Colab\"/></a>"
   ]
  },
  {
   "cell_type": "markdown",
   "metadata": {
    "colab_type": "text",
    "id": "haTFuiKvFeJy"
   },
   "source": [
    "# Using MorphNet on a Keras defined Model.\n",
    "\n",
    "**Author:** [ferova](https://github.com/ferova)<br>\n",
    "**Date created:** 2020//08//29<br>\n",
    "**Last modified:** 2020//12//10<br>\n",
    "**Description:** Morphnet on a ResnetV50 model extracted from the Keras model zoo and trained with the Keras API."
   ]
  },
  {
   "cell_type": "markdown",
   "metadata": {
    "colab_type": "text",
    "id": "VJbi68LkHIHV"
   },
   "source": [
    "## Install MorphNet in the notebook\n",
    "\n",
    "\n",
    "\n"
   ]
  },
  {
   "cell_type": "markdown",
   "metadata": {
    "colab_type": "text",
    "id": "EhG_AYffHQ0P"
   },
   "source": [
    "Here we install MorphNet, we also import Tensorflow with v1 compatibility and disable eager execution. This is mandatory for MorphNet to work."
   ]
  },
  {
   "cell_type": "code",
   "execution_count": null,
   "metadata": {
    "colab": {},
    "colab_type": "code",
    "id": "F_BagNTOnNW9"
   },
   "outputs": [],
   "source": [
    "!git clone https://github.com/google-research/morph-net\n",
    "!pip install morph-net/ "
   ]
  },
  {
   "cell_type": "code",
   "execution_count": null,
   "metadata": {
    "colab": {},
    "colab_type": "code",
    "id": "tIlV0or6nYfn"
   },
   "outputs": [],
   "source": [
    "import tensorflow.compat.v1 as tf\n",
    "tf.compat.v1.disable_eager_execution()"
   ]
  },
  {
   "cell_type": "markdown",
   "metadata": {
    "colab_type": "text",
    "id": "vOkZt40jIc1O"
   },
   "source": [
    "## Data preparation"
   ]
  },
  {
   "cell_type": "markdown",
   "metadata": {
    "colab_type": "text",
    "id": "JgV5JFCIJTgU"
   },
   "source": [
    "We download the training data (cifar10) and define variables needed for the creation of the model. Here BATCH_SIZE is the training batch size and the model structure in MorphNet's format is saved every SAVE_MODEL_EVERY epochs.\n",
    "\n"
   ]
  },
  {
   "cell_type": "code",
   "execution_count": null,
   "metadata": {
    "colab": {},
    "colab_type": "code",
    "id": "1N2y4tLFIlV5"
   },
   "outputs": [],
   "source": [
    "(x_train,y_train),(x_test,y_test)=tf.keras.datasets.cifar10.load_data()\n",
    "x_train = x_train.astype(\"float32\") / 255.0\n",
    "x_test = x_test.astype(\"float32\") / 255.0\n",
    "y_train=tf.keras.utils.to_categorical(y_train)\n",
    "y_test=tf.keras.utils.to_categorical(y_test)"
   ]
  },
  {
   "cell_type": "code",
   "execution_count": null,
   "metadata": {
    "colab": {},
    "colab_type": "code",
    "id": "8xNpzuNuJRGq"
   },
   "outputs": [],
   "source": [
    "NUM_CLASSES = y_train.shape[1]\n",
    "INPUT_SIZE_X = x_train.shape[1]\n",
    "INPUT_SIZE_Y = x_train.shape[2]\n",
    "\n",
    "BATCH_SIZE = 2048\n",
    "SAVE_MODEL_EVERY = 20\n",
    "EPOCHS = 120"
   ]
  },
  {
   "cell_type": "markdown",
   "metadata": {
    "colab_type": "text",
    "id": "RVnteGqELch6"
   },
   "source": [
    "## Model definition"
   ]
  },
  {
   "cell_type": "markdown",
   "metadata": {
    "colab_type": "text",
    "id": "VCFUi0wKVyhu"
   },
   "source": [
    "The model is taken from one of Keras Model Zoo's models. The model is created from the output of the base model in order to have all the layers available and not have it as a sub-model. We use GlobalAveragePooling2D as Flatten layers are not accepted in MorphNet."
   ]
  },
  {
   "cell_type": "code",
   "execution_count": null,
   "metadata": {
    "colab": {},
    "colab_type": "code",
    "id": "tIIfF7PN1Kbn"
   },
   "outputs": [],
   "source": [
    "base_model = tf.keras.applications.ResNet50(include_top= False, input_shape=(INPUT_SIZE_X, INPUT_SIZE_Y,3))\n",
    "\n",
    "x = base_model.output\n",
    "x = tf.keras.layers.GlobalAveragePooling2D()(x)\n",
    "x = tf.keras.layers.Dense(1024, activation=\"relu\")(x)\n",
    "logits = tf.keras.layers.Dense(NUM_CLASSES)(x)\n",
    "model = tf.keras.Model(inputs=base_model.input, outputs=logits)"
   ]
  },
  {
   "cell_type": "markdown",
   "metadata": {
    "colab_type": "text",
    "id": "W-jrMqkLYVPn"
   },
   "source": [
    "## Loss definition"
   ]
  },
  {
   "cell_type": "markdown",
   "metadata": {
    "colab_type": "text",
    "id": "B5uKPKLtaU4D"
   },
   "source": [
    "We import the regularizer. Here we use **flop_regularizer** because our network has Batch Normalization. \n",
    "\n",
    "A couple of things to take into account are:\n",
    "\n",
    "*   The *regularizer strength* is set to 1e-6. This is the parameter that determines how agressive Morphnet is. Higher values produce an overall smaller network.\n",
    "*   We also set the *threshold value*, that is, the value at which MorphNet treats a weight as being 0. Here we use 1e-2.\n",
    "\n",
    "* In the input boundary, we use the tensorflow operation of the output of our model.\n",
    "\n",
    "Finally, we define the *MorphNet loss* and the *cost*.\n"
   ]
  },
  {
   "cell_type": "code",
   "execution_count": null,
   "metadata": {
    "colab": {},
    "colab_type": "code",
    "id": "vI2xZwTfTOAy"
   },
   "outputs": [],
   "source": [
    "from morph_net.network_regularizers import flop_regularizer\n",
    "from morph_net.tools import structure_exporter\n",
    "\n",
    "regularization_strength = 1e-6\n",
    "\n",
    "network_regularizer = flop_regularizer.GroupLassoFlopsRegularizer(\n",
    "    output_boundary=[model.output.op],\n",
    "    threshold=1e-2)\n",
    "\n",
    "morph_net_loss = network_regularizer.get_regularization_term()*regularization_strength\n",
    "\n",
    "cost = network_regularizer.get_cost()"
   ]
  },
  {
   "cell_type": "markdown",
   "metadata": {
    "colab_type": "text",
    "id": "-ThvxEo4iNf_"
   },
   "source": [
    "We then add the new loss to the model. We define metrics for the cost and the new loss so we can keep track of them."
   ]
  },
  {
   "cell_type": "code",
   "execution_count": null,
   "metadata": {
    "colab": {},
    "colab_type": "code",
    "id": "5eKEOf7CYS_x"
   },
   "outputs": [],
   "source": [
    "model.add_loss(lambda: morph_net_loss)\n",
    "def cost_metric(y_true, y_pred):\n",
    "    return cost\n",
    "def morphloss_metric(y_true, y_pred):\n",
    "    return morph_net_loss"
   ]
  },
  {
   "cell_type": "markdown",
   "metadata": {
    "colab_type": "text",
    "id": "rzSZkWDtl1pG"
   },
   "source": [
    "## Structure exporter definition"
   ]
  },
  {
   "cell_type": "markdown",
   "metadata": {
    "colab_type": "text",
    "id": "mIKysE0XmBdk"
   },
   "source": [
    "Here we define the *structure exporter*. The **export_sctructure** function saves the current structure of the network by following the next steps:\n",
    "\n",
    "1.   It creates a StructureExporter object from the *network_regularizer* we defined before.\n",
    "2.   It then creates a dictionary containing all of the tensors in the regularizer and evaluates them.\n",
    "\n",
    "3.  It populates the tensors with the evaluated values and saves the current status in a file. Here it saves the structure at *morphnet-log/models /learned_structure* with alive_EPOCH.json as the file name.\n",
    "\n",
    "We then create a callback from our function that is called at the end of every epoch. This callback is created as a lambda callback so it can use a previously defined function.\n",
    "\n",
    "**NOTE:**\n",
    "\n",
    "We create the function as a callback so it has access to the tensors during training.\n",
    "\n",
    "\n",
    "\n"
   ]
  },
  {
   "cell_type": "code",
   "execution_count": null,
   "metadata": {
    "colab": {},
    "colab_type": "code",
    "id": "OcTRJkTomEdd"
   },
   "outputs": [],
   "source": [
    "def export_structure(epoch, logs):\n",
    "  if (epoch % SAVE_MODEL_EVERY == 0):\n",
    "\n",
    "    exporter = structure_exporter.StructureExporter(network_regularizer.op_regularizer_manager)\n",
    "\n",
    "    values = {}\n",
    "    for key, item in exporter.tensors.items():\n",
    "      values[key] = tf.keras.backend.eval(item)\n",
    "\n",
    "    exporter.populate_tensor_values(values)\n",
    "\n",
    "    exporter.create_file_and_save_alive_counts('morphnet-log/models/', str(epoch)+'.json')\n",
    "\n",
    "export_structure_callback = tf.keras.callbacks.LambdaCallback(on_epoch_end=lambda epoch, logs: export_structure(epoch, logs))\n",
    "\n",
    "callback_list = [export_structure_callback]"
   ]
  },
  {
   "cell_type": "markdown",
   "metadata": {
    "colab_type": "text",
    "id": "jjBph4BHrXEl"
   },
   "source": [
    "## Model training"
   ]
  },
  {
   "cell_type": "markdown",
   "metadata": {
    "colab_type": "text",
    "id": "OmWCdePHrdx3"
   },
   "source": [
    "We define the optimizier we want to use together with the loss of the model. Keras automatically adds the two losses together."
   ]
  },
  {
   "cell_type": "code",
   "execution_count": null,
   "metadata": {
    "colab": {},
    "colab_type": "code",
    "id": "7SpbDe-Kqzmv"
   },
   "outputs": [],
   "source": [
    "opt = tf.keras.optimizers.Adam(learning_rate=5e-4)\n",
    "\n",
    "model.compile(optimizer=opt, loss=tf.keras.losses.CategoricalCrossentropy(from_logits=True), metrics=['categorical_accuracy', cost_metric, morphloss_metric])\n"
   ]
  },
  {
   "cell_type": "markdown",
   "metadata": {
    "colab_type": "text",
    "id": "V9Su3yEBsKqn"
   },
   "source": [
    "We can also use tensorboard to monitor the training process of our network, if you don't want to use it skip running the next two lines. Note that in order to use it the tensorboard cell has to be run before the call to the fit method of the model."
   ]
  },
  {
   "cell_type": "code",
   "execution_count": null,
   "metadata": {
    "colab": {},
    "colab_type": "code",
    "id": "8uwOO0-CiMLm"
   },
   "outputs": [],
   "source": [
    "tensorboard_callback = tf.keras.callbacks.TensorBoard(log_dir='morphnet-log/', write_graph=False)\n",
    "callback_list.append(tensorboard_callback)"
   ]
  },
  {
   "cell_type": "code",
   "execution_count": null,
   "metadata": {
    "colab": {},
    "colab_type": "code",
    "id": "HHsVG28NnqZc"
   },
   "outputs": [],
   "source": [
    "%load_ext tensorboard\n",
    "%tensorboard --logdir morphnet-log/"
   ]
  },
  {
   "cell_type": "markdown",
   "metadata": {
    "colab_type": "text",
    "id": "qgdo7jKLsg1H"
   },
   "source": [
    "We train the model. Note how the model overfits rapidly but the regularization provided by MorphNet results in a better validation accuracy. "
   ]
  },
  {
   "cell_type": "code",
   "execution_count": null,
   "metadata": {
    "colab": {},
    "colab_type": "code",
    "id": "oh6s4ZC_VXOt"
   },
   "outputs": [],
   "source": [
    "model.fit(x = x_train, y = y_train, validation_data = (x_test, y_test),  batch_size= BATCH_SIZE, epochs=EPOCHS, callbacks = callback_list)"
   ]
  },
  {
   "cell_type": "markdown",
   "metadata": {
    "colab_type": "text",
    "id": "84bZx9EusnbF"
   },
   "source": [
    "## Model structure"
   ]
  },
  {
   "cell_type": "markdown",
   "metadata": {
    "colab_type": "text",
    "id": "shKzOoN5svwt"
   },
   "source": [
    "Finally, we can retrieve the structure we want to use. Here we load the structure saved at epoch 100."
   ]
  },
  {
   "cell_type": "code",
   "execution_count": null,
   "metadata": {
    "colab": {},
    "colab_type": "code",
    "id": "waOFLn7OUQyy"
   },
   "outputs": [],
   "source": [
    "import json\n",
    "with open('morphnet-log/models/learned_structure/alive_100.json') as json_file:\n",
    "    structure = json.load(json_file)"
   ]
  },
  {
   "cell_type": "code",
   "execution_count": null,
   "metadata": {
    "colab": {},
    "colab_type": "code",
    "id": "VmUj996mdBqq"
   },
   "outputs": [],
   "source": [
    "structure"
   ]
  }
 ],
 "metadata": {
  "accelerator": "GPU",
  "colab": {
   "authorship_tag": "ABX9TyNEbUEJCmClhs6L+iMq3iSC",
   "collapsed_sections": [],
   "include_colab_link": true,
   "name": "MorphNet-Keras-ResnetTutorial.ipynb",
   "provenance": [],
   "toc_visible": true
  },
  "kernelspec": {
   "display_name": "Python 3",
   "language": "python",
   "name": "python3"
  },
  "language_info": {
   "codemirror_mode": {
    "name": "ipython",
    "version": 3
   },
   "file_extension": ".py",
   "mimetype": "text/x-python",
   "name": "python",
   "nbconvert_exporter": "python",
   "pygments_lexer": "ipython3",
   "version": "3.8.5"
  }
 },
 "nbformat": 4,
 "nbformat_minor": 1
}
